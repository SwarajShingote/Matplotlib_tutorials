{
 "cells": [
  {
   "cell_type": "code",
   "execution_count": null,
   "metadata": {
    "collapsed": false
   },
   "outputs": [],
   "source": [
    "# Filling the Area Between two Plots\n",
    "# Basics of plot() , fill_between()"
   ]
  },
  {
   "cell_type": "code",
   "execution_count": null,
   "metadata": {
    "collapsed": true
   },
   "outputs": [],
   "source": [
    "import pandas as pd \n",
    "from matplotlib import pyplot as plt \n",
    "\n",
    "data = pd.read_csv('Code_snippet_master/data_fill.csv')\n",
    "ages = data[\"Age\"]\n",
    "dev_salaries = data[\"All_Devs\"]\n",
    "py_salaries = data[\"Python\"]\n",
    "js_salaries = data[\"JavaScript\"]\n",
    "\n",
    "plt.plot(ages ,dev_salaries,color='#444444',linestyle='--',label ='All Devs' )\n",
    "\n",
    "plt.plot(ages ,py_salaries,label='Python')\n",
    "\n",
    "#plt.plot(ages ,js_salaries,label='JavaScript')\n",
    "overall_median = 57287\n",
    "\n",
    "plt.fill_between(ages,py_salaries,dev_salaries,\n",
    "                 where=(py_salaries > dev_salaries)  ,\n",
    "                 interpolate = True,alpha = 0.25,label='Above Avg.')\n",
    "plt.fill_between(ages,py_salaries,dev_salaries,\n",
    "                 where= (py_salaries <= dev_salaries) ,\n",
    "                 interpolate = True,alpha = 0.25,label='Below Avg.')\n",
    "\n",
    "\n",
    "plt.legend()\n",
    "\n",
    "plt.xlabel('Ages')\n",
    "plt.ylabel('Median Salary (USD)')\n",
    "plt.title('Median Salary (USD) by Age')\n",
    "\n",
    "\n",
    "plt.tight_layout()\n",
    "\n",
    "plt.show()"
   ]
  }
 ],
 "metadata": {
  "kernelspec": {
   "display_name": "Python 3",
   "language": "python",
   "name": "python3"
  },
  "language_info": {
   "codemirror_mode": {
    "name": "ipython",
    "version": 3
   },
   "file_extension": ".py",
   "mimetype": "text/x-python",
   "name": "python",
   "nbconvert_exporter": "python",
   "pygments_lexer": "ipython3",
   "version": "3.6.2"
  }
 },
 "nbformat": 4,
 "nbformat_minor": 1
}
